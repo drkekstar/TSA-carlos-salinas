{
    "cells": [
        {
            "cell_type": "markdown",
            "metadata": {},
            "source": [
                "# Explore here"
            ]
        },
        {
            "cell_type": "code",
            "execution_count": 1,
            "metadata": {},
            "outputs": [
                {
                    "data": {
                        "application/vnd.microsoft.datawrangler.viewer.v0+json": {
                            "columns": [
                                {
                                    "name": "index",
                                    "rawType": "int64",
                                    "type": "integer"
                                },
                                {
                                    "name": "date",
                                    "rawType": "object",
                                    "type": "string"
                                },
                                {
                                    "name": "sales",
                                    "rawType": "float64",
                                    "type": "float"
                                }
                            ],
                            "ref": "2719af88-c901-424f-9274-8fbc1519893a",
                            "rows": [
                                [
                                    "0",
                                    "2022-09-03 17:10:08.079328",
                                    "55.292157037903"
                                ],
                                [
                                    "1",
                                    "2022-09-04 17:10:08.079328",
                                    "53.803211351129065"
                                ],
                                [
                                    "2",
                                    "2022-09-05 17:10:08.079328",
                                    "58.14169340437201"
                                ],
                                [
                                    "3",
                                    "2022-09-06 17:10:08.079328",
                                    "64.53089877568657"
                                ],
                                [
                                    "4",
                                    "2022-09-07 17:10:08.079328",
                                    "66.01363287455949"
                                ]
                            ],
                            "shape": {
                                "columns": 2,
                                "rows": 5
                            }
                        },
                        "text/html": [
                            "<div>\n",
                            "<style scoped>\n",
                            "    .dataframe tbody tr th:only-of-type {\n",
                            "        vertical-align: middle;\n",
                            "    }\n",
                            "\n",
                            "    .dataframe tbody tr th {\n",
                            "        vertical-align: top;\n",
                            "    }\n",
                            "\n",
                            "    .dataframe thead th {\n",
                            "        text-align: right;\n",
                            "    }\n",
                            "</style>\n",
                            "<table border=\"1\" class=\"dataframe\">\n",
                            "  <thead>\n",
                            "    <tr style=\"text-align: right;\">\n",
                            "      <th></th>\n",
                            "      <th>date</th>\n",
                            "      <th>sales</th>\n",
                            "    </tr>\n",
                            "  </thead>\n",
                            "  <tbody>\n",
                            "    <tr>\n",
                            "      <th>0</th>\n",
                            "      <td>2022-09-03 17:10:08.079328</td>\n",
                            "      <td>55.292157</td>\n",
                            "    </tr>\n",
                            "    <tr>\n",
                            "      <th>1</th>\n",
                            "      <td>2022-09-04 17:10:08.079328</td>\n",
                            "      <td>53.803211</td>\n",
                            "    </tr>\n",
                            "    <tr>\n",
                            "      <th>2</th>\n",
                            "      <td>2022-09-05 17:10:08.079328</td>\n",
                            "      <td>58.141693</td>\n",
                            "    </tr>\n",
                            "    <tr>\n",
                            "      <th>3</th>\n",
                            "      <td>2022-09-06 17:10:08.079328</td>\n",
                            "      <td>64.530899</td>\n",
                            "    </tr>\n",
                            "    <tr>\n",
                            "      <th>4</th>\n",
                            "      <td>2022-09-07 17:10:08.079328</td>\n",
                            "      <td>66.013633</td>\n",
                            "    </tr>\n",
                            "  </tbody>\n",
                            "</table>\n",
                            "</div>"
                        ],
                        "text/plain": [
                            "                         date      sales\n",
                            "0  2022-09-03 17:10:08.079328  55.292157\n",
                            "1  2022-09-04 17:10:08.079328  53.803211\n",
                            "2  2022-09-05 17:10:08.079328  58.141693\n",
                            "3  2022-09-06 17:10:08.079328  64.530899\n",
                            "4  2022-09-07 17:10:08.079328  66.013633"
                        ]
                    },
                    "execution_count": 1,
                    "metadata": {},
                    "output_type": "execute_result"
                }
            ],
            "source": [
                "import pandas as pd\n",
                "df = pd.read_csv('https://raw.githubusercontent.com/4GeeksAcademy/alternative-time-series-project/main/sales.csv')\n",
                "df.head ()"
            ]
        },
        {
            "cell_type": "code",
            "execution_count": 2,
            "metadata": {},
            "outputs": [
                {
                    "data": {
                        "application/vnd.microsoft.datawrangler.viewer.v0+json": {
                            "columns": [
                                {
                                    "name": "date",
                                    "rawType": "datetime64[ns]",
                                    "type": "datetime"
                                },
                                {
                                    "name": "sales",
                                    "rawType": "float64",
                                    "type": "float"
                                }
                            ],
                            "ref": "65114406-5dde-4e55-a3a2-481feaef0117",
                            "rows": [
                                [
                                    "2022-09-03 17:10:08.079328",
                                    "55.292157037903"
                                ],
                                [
                                    "2022-09-04 17:10:08.079328",
                                    "53.803211351129065"
                                ],
                                [
                                    "2022-09-05 17:10:08.079328",
                                    "58.14169340437201"
                                ],
                                [
                                    "2022-09-06 17:10:08.079328",
                                    "64.53089877568657"
                                ],
                                [
                                    "2022-09-07 17:10:08.079328",
                                    "66.01363287455949"
                                ]
                            ],
                            "shape": {
                                "columns": 1,
                                "rows": 5
                            }
                        },
                        "text/plain": [
                            "date\n",
                            "2022-09-03 17:10:08.079328    55.292157\n",
                            "2022-09-04 17:10:08.079328    53.803211\n",
                            "2022-09-05 17:10:08.079328    58.141693\n",
                            "2022-09-06 17:10:08.079328    64.530899\n",
                            "2022-09-07 17:10:08.079328    66.013633\n",
                            "Name: sales, dtype: float64"
                        ]
                    },
                    "execution_count": 2,
                    "metadata": {},
                    "output_type": "execute_result"
                }
            ],
            "source": [
                "df ['date'] = pd.to_datetime(df['date'])\n",
                "df = df.set_index('date')\n",
                "df = df['sales']\n",
                "df.head()"
            ]
        },
        {
            "cell_type": "code",
            "execution_count": 3,
            "metadata": {},
            "outputs": [
                {
                    "name": "stdout",
                    "output_type": "stream",
                    "text": [
                        "Requirement already satisfied: statsmodels in /opt/anaconda3/lib/python3.13/site-packages (0.14.4)\n",
                        "Requirement already satisfied: numpy<3,>=1.22.3 in /opt/anaconda3/lib/python3.13/site-packages (from statsmodels) (2.2.6)\n",
                        "Requirement already satisfied: scipy!=1.9.2,>=1.8 in /opt/anaconda3/lib/python3.13/site-packages (from statsmodels) (1.15.3)\n",
                        "Requirement already satisfied: pandas!=2.1.0,>=1.4 in /opt/anaconda3/lib/python3.13/site-packages (from statsmodels) (2.2.3)\n",
                        "Requirement already satisfied: patsy>=0.5.6 in /opt/anaconda3/lib/python3.13/site-packages (from statsmodels) (1.0.1)\n",
                        "Requirement already satisfied: packaging>=21.3 in /opt/anaconda3/lib/python3.13/site-packages (from statsmodels) (24.2)\n",
                        "Requirement already satisfied: python-dateutil>=2.8.2 in /opt/anaconda3/lib/python3.13/site-packages (from pandas!=2.1.0,>=1.4->statsmodels) (2.9.0.post0)\n",
                        "Requirement already satisfied: pytz>=2020.1 in /opt/anaconda3/lib/python3.13/site-packages (from pandas!=2.1.0,>=1.4->statsmodels) (2024.1)\n",
                        "Requirement already satisfied: tzdata>=2022.7 in /opt/anaconda3/lib/python3.13/site-packages (from pandas!=2.1.0,>=1.4->statsmodels) (2025.2)\n",
                        "Requirement already satisfied: six>=1.5 in /opt/anaconda3/lib/python3.13/site-packages (from python-dateutil>=2.8.2->pandas!=2.1.0,>=1.4->statsmodels) (1.17.0)\n"
                    ]
                }
            ],
            "source": [
                "!pip install statsmodels\n"
            ]
        },
        {
            "cell_type": "code",
            "execution_count": 4,
            "metadata": {},
            "outputs": [
                {
                    "data": {
                        "image/png": "[encoded data removed]",
                        "text/plain": [
                            "<Figure size 640x480 with 1 Axes>"
                        ]
                    },
                    "metadata": {},
                    "output_type": "display_data"
                }
            ],
            "source": [
                "import matplotlib.pyplot as plt\n",
                "import seaborn as sns\n",
                "\n",
                "sns.lineplot(data=df)\n",
                "\n",
                "plt.tight_layout()\n",
                "plt.show()"
            ]
        },
        {
            "cell_type": "code",
            "execution_count": 5,
            "metadata": {},
            "outputs": [],
            "source": [
                "from statsmodels.tsa.seasonal import seasonal_decompose\n",
                "\n",
                "dp = seasonal_decompose(df)\n",
                "trend = dp.trend\n",
                "seasonal = dp.seasonal\n",
                "residual = dp.resid"
            ]
        },
        {
            "cell_type": "code",
            "execution_count": 6,
            "metadata": {},
            "outputs": [
                {
                    "data": {
                        "image/png": "[encoded data removed]",
                        "text/plain": [
                            "<Figure size 640x480 with 1 Axes>"
                        ]
                    },
                    "metadata": {},
                    "output_type": "display_data"
                }
            ],
            "source": [
                "sns.lineplot (data=df, label = \"Serie de tiempo\")\n",
                "sns.lineplot (data=trend, label = \"Tendencia\")\n",
                "sns.lineplot (data=seasonal, label = \"Estacionalidad\")\n",
                "plt.legend()\n",
                "plt.show()"
            ]
        },
        {
            "cell_type": "code",
            "execution_count": 7,
            "metadata": {},
            "outputs": [
                {
                    "name": "stdout",
                    "output_type": "stream",
                    "text": [
                        "Resultados de la prueba de Dickey-Fuller:\n"
                    ]
                },
                {
                    "data": {
                        "application/vnd.microsoft.datawrangler.viewer.v0+json": {
                            "columns": [
                                {
                                    "name": "index",
                                    "rawType": "object",
                                    "type": "string"
                                },
                                {
                                    "name": "0",
                                    "rawType": "float64",
                                    "type": "float"
                                }
                            ],
                            "ref": "ed8dd1d9-197c-4e07-be82-2cd17d76a2f7",
                            "rows": [
                                [
                                    "Test Statistic",
                                    "0.5454141937063742"
                                ],
                                [
                                    "p-value",
                                    "0.9861899815311063"
                                ],
                                [
                                    "#Lags Used",
                                    "13.0"
                                ],
                                [
                                    "Number of Observations Used",
                                    "352.0"
                                ],
                                [
                                    "Critical Value (1%)",
                                    "-3.4490648539347544"
                                ],
                                [
                                    "Critical Value (5%)",
                                    "-2.8697861692116478"
                                ],
                                [
                                    "Critical Value (10%)",
                                    "-2.5711631253228306"
                                ]
                            ],
                            "shape": {
                                "columns": 1,
                                "rows": 7
                            }
                        },
                        "text/plain": [
                            "Test Statistic                   0.545414\n",
                            "p-value                          0.986190\n",
                            "#Lags Used                      13.000000\n",
                            "Number of Observations Used    352.000000\n",
                            "Critical Value (1%)             -3.449065\n",
                            "Critical Value (5%)             -2.869786\n",
                            "Critical Value (10%)            -2.571163\n",
                            "dtype: float64"
                        ]
                    },
                    "execution_count": 7,
                    "metadata": {},
                    "output_type": "execute_result"
                }
            ],
            "source": [
                "from statsmodels.tsa.stattools import adfuller\n",
                "\n",
                "def test_stationarity(timeseries):\n",
                "    print(\"Resultados de la prueba de Dickey-Fuller:\")\n",
                "    dftest = adfuller(timeseries, autolag = \"AIC\")\n",
                "    dfoutput = pd.Series(dftest[0:4], index = [\"Test Statistic\", \"p-value\", \"#Lags Used\", \"Number of Observations Used\"])\n",
                "    for key,value in dftest[4].items():\n",
                "        dfoutput[\"Critical Value (%s)\"%key] = value\n",
                "    return dfoutput\n",
                "\n",
                "test_stationarity(df)"
            ]
        },
        {
            "cell_type": "code",
            "execution_count": 8,
            "metadata": {},
            "outputs": [
                {
                    "data": {
                        "image/png": "[encoded data removed]",
                        "text/plain": [
                            "<Figure size 640x480 with 1 Axes>"
                        ]
                    },
                    "metadata": {},
                    "output_type": "display_data"
                }
            ],
            "source": [
                "from statsmodels.graphics.tsaplots import plot_acf\n",
                "\n",
                "plot_acf(df)\n",
                "plt.show()"
            ]
        },
        {
            "cell_type": "code",
            "execution_count": 9,
            "metadata": {},
            "outputs": [
                {
                    "name": "stdout",
                    "output_type": "stream",
                    "text": [
                        "Requirement already satisfied: pmdarima in /opt/anaconda3/lib/python3.13/site-packages (2.0.4)\n",
                        "Requirement already satisfied: joblib>=0.11 in /opt/anaconda3/lib/python3.13/site-packages (from pmdarima) (1.4.2)\n",
                        "Requirement already satisfied: Cython!=0.29.18,!=0.29.31,>=0.29 in /opt/anaconda3/lib/python3.13/site-packages (from pmdarima) (3.1.4)\n",
                        "Requirement already satisfied: numpy>=1.21.2 in /opt/anaconda3/lib/python3.13/site-packages (from pmdarima) (2.2.6)\n",
                        "Requirement already satisfied: pandas>=0.19 in /opt/anaconda3/lib/python3.13/site-packages (from pmdarima) (2.2.3)\n",
                        "Requirement already satisfied: scikit-learn>=0.22 in /opt/anaconda3/lib/python3.13/site-packages (from pmdarima) (1.6.1)\n",
                        "Requirement already satisfied: scipy>=1.3.2 in /opt/anaconda3/lib/python3.13/site-packages (from pmdarima) (1.15.3)\n",
                        "Requirement already satisfied: statsmodels>=0.13.2 in /opt/anaconda3/lib/python3.13/site-packages (from pmdarima) (0.14.4)\n",
                        "Requirement already satisfied: urllib3 in /opt/anaconda3/lib/python3.13/site-packages (from pmdarima) (2.5.0)\n",
                        "Requirement already satisfied: setuptools!=50.0.0,>=38.6.0 in /opt/anaconda3/lib/python3.13/site-packages (from pmdarima) (80.9.0)\n",
                        "Requirement already satisfied: packaging>=17.1 in /opt/anaconda3/lib/python3.13/site-packages (from pmdarima) (24.2)\n",
                        "Requirement already satisfied: python-dateutil>=2.8.2 in /opt/anaconda3/lib/python3.13/site-packages (from pandas>=0.19->pmdarima) (2.9.0.post0)\n",
                        "Requirement already satisfied: pytz>=2020.1 in /opt/anaconda3/lib/python3.13/site-packages (from pandas>=0.19->pmdarima) (2024.1)\n",
                        "Requirement already satisfied: tzdata>=2022.7 in /opt/anaconda3/lib/python3.13/site-packages (from pandas>=0.19->pmdarima) (2025.2)\n",
                        "Requirement already satisfied: six>=1.5 in /opt/anaconda3/lib/python3.13/site-packages (from python-dateutil>=2.8.2->pandas>=0.19->pmdarima) (1.17.0)\n",
                        "Requirement already satisfied: threadpoolctl>=3.1.0 in /opt/anaconda3/lib/python3.13/site-packages (from scikit-learn>=0.22->pmdarima) (3.5.0)\n",
                        "Requirement already satisfied: patsy>=0.5.6 in /opt/anaconda3/lib/python3.13/site-packages (from statsmodels>=0.13.2->pmdarima) (1.0.1)\n"
                    ]
                }
            ],
            "source": [
                "!pip install pmdarima"
            ]
        },
        {
            "cell_type": "code",
            "execution_count": 10,
            "metadata": {},
            "outputs": [
                {
                    "name": "stdout",
                    "output_type": "stream",
                    "text": [
                        "Requirement already satisfied: numpy in /opt/anaconda3/lib/python3.13/site-packages (2.2.6)\n",
                        "Collecting numpy\n",
                        "  Downloading numpy-2.3.4-cp313-cp313-macosx_10_13_x86_64.whl.metadata (62 kB)\n",
                        "Requirement already satisfied: pmdarima in /opt/anaconda3/lib/python3.13/site-packages (2.0.4)\n",
                        "Requirement already satisfied: joblib>=0.11 in /opt/anaconda3/lib/python3.13/site-packages (from pmdarima) (1.4.2)\n",
                        "Requirement already satisfied: Cython!=0.29.18,!=0.29.31,>=0.29 in /opt/anaconda3/lib/python3.13/site-packages (from pmdarima) (3.1.4)\n",
                        "Requirement already satisfied: pandas>=0.19 in /opt/anaconda3/lib/python3.13/site-packages (from pmdarima) (2.2.3)\n",
                        "Requirement already satisfied: scikit-learn>=0.22 in /opt/anaconda3/lib/python3.13/site-packages (from pmdarima) (1.6.1)\n",
                        "Requirement already satisfied: scipy>=1.3.2 in /opt/anaconda3/lib/python3.13/site-packages (from pmdarima) (1.15.3)\n",
                        "Requirement already satisfied: statsmodels>=0.13.2 in /opt/anaconda3/lib/python3.13/site-packages (from pmdarima) (0.14.4)\n",
                        "Requirement already satisfied: urllib3 in /opt/anaconda3/lib/python3.13/site-packages (from pmdarima) (2.5.0)\n",
                        "Requirement already satisfied: setuptools!=50.0.0,>=38.6.0 in /opt/anaconda3/lib/python3.13/site-packages (from pmdarima) (80.9.0)\n",
                        "Requirement already satisfied: packaging>=17.1 in /opt/anaconda3/lib/python3.13/site-packages (from pmdarima) (24.2)\n",
                        "Requirement already satisfied: python-dateutil>=2.8.2 in /opt/anaconda3/lib/python3.13/site-packages (from pandas>=0.19->pmdarima) (2.9.0.post0)\n",
                        "Requirement already satisfied: pytz>=2020.1 in /opt/anaconda3/lib/python3.13/site-packages (from pandas>=0.19->pmdarima) (2024.1)\n",
                        "Requirement already satisfied: tzdata>=2022.7 in /opt/anaconda3/lib/python3.13/site-packages (from pandas>=0.19->pmdarima) (2025.2)\n",
                        "Requirement already satisfied: six>=1.5 in /opt/anaconda3/lib/python3.13/site-packages (from python-dateutil>=2.8.2->pandas>=0.19->pmdarima) (1.17.0)\n",
                        "Requirement already satisfied: threadpoolctl>=3.1.0 in /opt/anaconda3/lib/python3.13/site-packages (from scikit-learn>=0.22->pmdarima) (3.5.0)\n",
                        "Requirement already satisfied: patsy>=0.5.6 in /opt/anaconda3/lib/python3.13/site-packages (from statsmodels>=0.13.2->pmdarima) (1.0.1)\n",
                        "Downloading numpy-2.3.4-cp313-cp313-macosx_10_13_x86_64.whl (21.0 MB)\n",
                        "\u001b[2K   \u001b[90m━━━━━━━━━━━━━━━━━━━━━━━━━━━━━━━━━━━━━━━━\u001b[0m \u001b[32m21.0/21.0 MB\u001b[0m \u001b[31m13.6 MB/s\u001b[0m  \u001b[33m0:00:01\u001b[0mm0:00:01\u001b[0m00:01\u001b[0m\n",
                        "\u001b[?25hInstalling collected packages: numpy\n",
                        "  Attempting uninstall: numpy\n",
                        "    Found existing installation: numpy 2.2.6\n",
                        "    Uninstalling numpy-2.2.6:\n",
                        "      Successfully uninstalled numpy-2.2.6\n",
                        "\u001b[31mERROR: pip's dependency resolver does not currently take into account all the packages that are installed. This behaviour is the source of the following dependency conflicts.\n",
                        "opencv-python 4.12.0.88 requires numpy<2.3.0,>=2; python_version >= \"3.9\", but you have numpy 2.3.4 which is incompatible.\n",
                        "numba 0.61.0 requires numpy<2.2,>=1.24, but you have numpy 2.3.4 which is incompatible.\u001b[0m\u001b[31m\n",
                        "\u001b[0mSuccessfully installed numpy-2.3.4\n",
                        "Note: you may need to restart the kernel to use updated packages.\n"
                    ]
                }
            ],
            "source": [
                "%pip install --upgrade numpy pmdarima"
            ]
        },
        {
            "cell_type": "code",
            "execution_count": 11,
            "metadata": {},
            "outputs": [
                {
                    "name": "stdout",
                    "output_type": "stream",
                    "text": [
                        "Requirement already satisfied: numpy in /opt/anaconda3/lib/python3.13/site-packages (2.3.4)\n",
                        "Requirement already satisfied: pmdarima in /opt/anaconda3/lib/python3.13/site-packages (2.0.4)\n",
                        "Requirement already satisfied: joblib>=0.11 in /opt/anaconda3/lib/python3.13/site-packages (from pmdarima) (1.4.2)\n",
                        "Requirement already satisfied: Cython!=0.29.18,!=0.29.31,>=0.29 in /opt/anaconda3/lib/python3.13/site-packages (from pmdarima) (3.1.4)\n",
                        "Requirement already satisfied: pandas>=0.19 in /opt/anaconda3/lib/python3.13/site-packages (from pmdarima) (2.2.3)\n",
                        "Requirement already satisfied: scikit-learn>=0.22 in /opt/anaconda3/lib/python3.13/site-packages (from pmdarima) (1.6.1)\n",
                        "Requirement already satisfied: scipy>=1.3.2 in /opt/anaconda3/lib/python3.13/site-packages (from pmdarima) (1.15.3)\n",
                        "Requirement already satisfied: statsmodels>=0.13.2 in /opt/anaconda3/lib/python3.13/site-packages (from pmdarima) (0.14.4)\n",
                        "Requirement already satisfied: urllib3 in /opt/anaconda3/lib/python3.13/site-packages (from pmdarima) (2.5.0)\n",
                        "Requirement already satisfied: setuptools!=50.0.0,>=38.6.0 in /opt/anaconda3/lib/python3.13/site-packages (from pmdarima) (80.9.0)\n",
                        "Requirement already satisfied: packaging>=17.1 in /opt/anaconda3/lib/python3.13/site-packages (from pmdarima) (24.2)\n",
                        "Requirement already satisfied: python-dateutil>=2.8.2 in /opt/anaconda3/lib/python3.13/site-packages (from pandas>=0.19->pmdarima) (2.9.0.post0)\n",
                        "Requirement already satisfied: pytz>=2020.1 in /opt/anaconda3/lib/python3.13/site-packages (from pandas>=0.19->pmdarima) (2024.1)\n",
                        "Requirement already satisfied: tzdata>=2022.7 in /opt/anaconda3/lib/python3.13/site-packages (from pandas>=0.19->pmdarima) (2025.2)\n",
                        "Requirement already satisfied: six>=1.5 in /opt/anaconda3/lib/python3.13/site-packages (from python-dateutil>=2.8.2->pandas>=0.19->pmdarima) (1.17.0)\n",
                        "Requirement already satisfied: threadpoolctl>=3.1.0 in /opt/anaconda3/lib/python3.13/site-packages (from scikit-learn>=0.22->pmdarima) (3.5.0)\n",
                        "Requirement already satisfied: patsy>=0.5.6 in /opt/anaconda3/lib/python3.13/site-packages (from statsmodels>=0.13.2->pmdarima) (1.0.1)\n",
                        "Note: you may need to restart the kernel to use updated packages.\n"
                    ]
                },
                {
                    "name": "stderr",
                    "output_type": "stream",
                    "text": [
                        "/opt/anaconda3/lib/python3.13/site-packages/pmdarima/arima/_validation.py:62: UserWarning: m (7) set for non-seasonal fit. Setting to 0\n",
                        "  warnings.warn(\"m (%i) set for non-seasonal fit. Setting to 0\" % m)\n",
                        "/opt/anaconda3/lib/python3.13/site-packages/sklearn/utils/deprecation.py:151: FutureWarning: 'force_all_finite' was renamed to 'ensure_all_finite' in 1.6 and will be removed in 1.8.\n",
                        "  warnings.warn(\n",
                        "/opt/anaconda3/lib/python3.13/site-packages/sklearn/utils/deprecation.py:151: FutureWarning: 'force_all_finite' was renamed to 'ensure_all_finite' in 1.6 and will be removed in 1.8.\n",
                        "  warnings.warn(\n",
                        "/opt/anaconda3/lib/python3.13/site-packages/sklearn/utils/deprecation.py:151: FutureWarning: 'force_all_finite' was renamed to 'ensure_all_finite' in 1.6 and will be removed in 1.8.\n",
                        "  warnings.warn(\n",
                        "/opt/anaconda3/lib/python3.13/site-packages/sklearn/utils/deprecation.py:151: FutureWarning: 'force_all_finite' was renamed to 'ensure_all_finite' in 1.6 and will be removed in 1.8.\n",
                        "  warnings.warn(\n",
                        "/opt/anaconda3/lib/python3.13/site-packages/sklearn/utils/deprecation.py:151: FutureWarning: 'force_all_finite' was renamed to 'ensure_all_finite' in 1.6 and will be removed in 1.8.\n",
                        "  warnings.warn(\n",
                        "/opt/anaconda3/lib/python3.13/site-packages/sklearn/utils/deprecation.py:151: FutureWarning: 'force_all_finite' was renamed to 'ensure_all_finite' in 1.6 and will be removed in 1.8.\n",
                        "  warnings.warn(\n",
                        "/opt/anaconda3/lib/python3.13/site-packages/sklearn/utils/deprecation.py:151: FutureWarning: 'force_all_finite' was renamed to 'ensure_all_finite' in 1.6 and will be removed in 1.8.\n",
                        "  warnings.warn(\n",
                        "/opt/anaconda3/lib/python3.13/site-packages/sklearn/utils/deprecation.py:151: FutureWarning: 'force_all_finite' was renamed to 'ensure_all_finite' in 1.6 and will be removed in 1.8.\n",
                        "  warnings.warn(\n",
                        "/opt/anaconda3/lib/python3.13/site-packages/sklearn/utils/deprecation.py:151: FutureWarning: 'force_all_finite' was renamed to 'ensure_all_finite' in 1.6 and will be removed in 1.8.\n",
                        "  warnings.warn(\n"
                    ]
                },
                {
                    "name": "stdout",
                    "output_type": "stream",
                    "text": [
                        "Performing stepwise search to minimize aic\n",
                        " ARIMA(2,1,2)(0,0,0)[0] intercept   : AIC=1843.162, Time=0.96 sec\n",
                        " ARIMA(0,1,0)(0,0,0)[0] intercept   : AIC=2096.542, Time=0.01 sec\n",
                        " ARIMA(1,1,0)(0,0,0)[0] intercept   : AIC=1970.972, Time=0.04 sec\n",
                        " ARIMA(0,1,1)(0,0,0)[0] intercept   : AIC=1839.586, Time=0.09 sec\n",
                        " ARIMA(0,1,0)(0,0,0)[0]             : AIC=2209.657, Time=0.01 sec\n"
                    ]
                },
                {
                    "name": "stderr",
                    "output_type": "stream",
                    "text": [
                        "/opt/anaconda3/lib/python3.13/site-packages/sklearn/utils/deprecation.py:151: FutureWarning: 'force_all_finite' was renamed to 'ensure_all_finite' in 1.6 and will be removed in 1.8.\n",
                        "  warnings.warn(\n",
                        "/opt/anaconda3/lib/python3.13/site-packages/sklearn/utils/deprecation.py:151: FutureWarning: 'force_all_finite' was renamed to 'ensure_all_finite' in 1.6 and will be removed in 1.8.\n",
                        "  warnings.warn(\n",
                        "/opt/anaconda3/lib/python3.13/site-packages/sklearn/utils/deprecation.py:151: FutureWarning: 'force_all_finite' was renamed to 'ensure_all_finite' in 1.6 and will be removed in 1.8.\n",
                        "  warnings.warn(\n",
                        "/opt/anaconda3/lib/python3.13/site-packages/sklearn/utils/deprecation.py:151: FutureWarning: 'force_all_finite' was renamed to 'ensure_all_finite' in 1.6 and will be removed in 1.8.\n",
                        "  warnings.warn(\n",
                        "/opt/anaconda3/lib/python3.13/site-packages/sklearn/utils/deprecation.py:151: FutureWarning: 'force_all_finite' was renamed to 'ensure_all_finite' in 1.6 and will be removed in 1.8.\n",
                        "  warnings.warn(\n"
                    ]
                },
                {
                    "name": "stdout",
                    "output_type": "stream",
                    "text": [
                        " ARIMA(1,1,1)(0,0,0)[0] intercept   : AIC=1839.552, Time=0.18 sec\n"
                    ]
                },
                {
                    "name": "stderr",
                    "output_type": "stream",
                    "text": [
                        "/opt/anaconda3/lib/python3.13/site-packages/sklearn/utils/deprecation.py:151: FutureWarning: 'force_all_finite' was renamed to 'ensure_all_finite' in 1.6 and will be removed in 1.8.\n",
                        "  warnings.warn(\n"
                    ]
                },
                {
                    "name": "stdout",
                    "output_type": "stream",
                    "text": [
                        " ARIMA(2,1,1)(0,0,0)[0] intercept   : AIC=1841.532, Time=0.29 sec\n",
                        " ARIMA(1,1,2)(0,0,0)[0] intercept   : AIC=1843.586, Time=0.12 sec\n"
                    ]
                },
                {
                    "name": "stderr",
                    "output_type": "stream",
                    "text": [
                        "/opt/anaconda3/lib/python3.13/site-packages/sklearn/utils/deprecation.py:151: FutureWarning: 'force_all_finite' was renamed to 'ensure_all_finite' in 1.6 and will be removed in 1.8.\n",
                        "  warnings.warn(\n",
                        "/opt/anaconda3/lib/python3.13/site-packages/sklearn/utils/deprecation.py:151: FutureWarning: 'force_all_finite' was renamed to 'ensure_all_finite' in 1.6 and will be removed in 1.8.\n",
                        "  warnings.warn(\n"
                    ]
                },
                {
                    "name": "stdout",
                    "output_type": "stream",
                    "text": [
                        " ARIMA(0,1,2)(0,0,0)[0] intercept   : AIC=1839.607, Time=0.16 sec\n",
                        " ARIMA(2,1,0)(0,0,0)[0] intercept   : AIC=1922.648, Time=0.06 sec\n"
                    ]
                },
                {
                    "name": "stderr",
                    "output_type": "stream",
                    "text": [
                        "/opt/anaconda3/lib/python3.13/site-packages/sklearn/utils/deprecation.py:151: FutureWarning: 'force_all_finite' was renamed to 'ensure_all_finite' in 1.6 and will be removed in 1.8.\n",
                        "  warnings.warn(\n",
                        "/opt/anaconda3/lib/python3.13/site-packages/sklearn/utils/deprecation.py:151: FutureWarning: 'force_all_finite' was renamed to 'ensure_all_finite' in 1.6 and will be removed in 1.8.\n",
                        "  warnings.warn(\n"
                    ]
                },
                {
                    "name": "stdout",
                    "output_type": "stream",
                    "text": [
                        " ARIMA(1,1,1)(0,0,0)[0]             : AIC=inf, Time=0.21 sec\n",
                        "\n",
                        "Best model:  ARIMA(1,1,1)(0,0,0)[0] intercept\n",
                        "Total fit time: 2.187 seconds\n"
                    ]
                }
            ],
            "source": [
                "%pip install --upgrade numpy pmdarima\n",
                "\n",
                "from pmdarima import auto_arima\n",
                "\n",
                "model = auto_arima(df, seasonal=False, trace=True, m=7)"
            ]
        },
        {
            "cell_type": "code",
            "execution_count": 12,
            "metadata": {},
            "outputs": [
                {
                    "name": "stderr",
                    "output_type": "stream",
                    "text": [
                        "/opt/anaconda3/lib/python3.13/site-packages/sklearn/utils/deprecation.py:151: FutureWarning: 'force_all_finite' was renamed to 'ensure_all_finite' in 1.6 and will be removed in 1.8.\n",
                        "  warnings.warn(\n"
                    ]
                }
            ],
            "source": [
                "forecast = model.predict(60)"
            ]
        },
        {
            "cell_type": "code",
            "execution_count": 13,
            "metadata": {},
            "outputs": [
                {
                    "data": {
                        "application/vnd.microsoft.datawrangler.viewer.v0+json": {
                            "columns": [
                                {
                                    "name": "index",
                                    "rawType": "datetime64[ns]",
                                    "type": "datetime"
                                },
                                {
                                    "name": "0",
                                    "rawType": "float64",
                                    "type": "float"
                                }
                            ],
                            "ref": "a41ade55-4af8-46a8-9a9f-dcfa22af4bce",
                            "rows": [
                                [
                                    "2023-09-04 17:10:08.079328",
                                    "1002.1581482975744"
                                ],
                                [
                                    "2023-09-05 17:10:08.079328",
                                    "1004.8316683652461"
                                ],
                                [
                                    "2023-09-06 17:10:08.079328",
                                    "1007.4232890758273"
                                ],
                                [
                                    "2023-09-07 17:10:08.079328",
                                    "1010.0216296807375"
                                ],
                                [
                                    "2023-09-08 17:10:08.079328",
                                    "1012.6194189140449"
                                ],
                                [
                                    "2023-09-09 17:10:08.079328",
                                    "1015.2172533877429"
                                ],
                                [
                                    "2023-09-10 17:10:08.079328",
                                    "1017.815084149438"
                                ],
                                [
                                    "2023-09-11 17:10:08.079328",
                                    "1020.4129152157054"
                                ],
                                [
                                    "2023-09-12 17:10:08.079328",
                                    "1023.0107462569824"
                                ],
                                [
                                    "2023-09-13 17:10:08.079328",
                                    "1025.60857730031"
                                ],
                                [
                                    "2023-09-14 17:10:08.079328",
                                    "1028.206408343469"
                                ],
                                [
                                    "2023-09-15 17:10:08.079328",
                                    "1030.8042393866422"
                                ],
                                [
                                    "2023-09-16 17:10:08.079328",
                                    "1033.402070429814"
                                ],
                                [
                                    "2023-09-17 17:10:08.079328",
                                    "1035.999901472986"
                                ],
                                [
                                    "2023-09-18 17:10:08.079328",
                                    "1038.597732516158"
                                ],
                                [
                                    "2023-09-19 17:10:08.079328",
                                    "1041.19556355933"
                                ],
                                [
                                    "2023-09-20 17:10:08.079328",
                                    "1043.7933946025018"
                                ],
                                [
                                    "2023-09-21 17:10:08.079328",
                                    "1046.3912256456738"
                                ],
                                [
                                    "2023-09-22 17:10:08.079328",
                                    "1048.9890566888457"
                                ],
                                [
                                    "2023-09-23 17:10:08.079328",
                                    "1051.5868877320177"
                                ],
                                [
                                    "2023-09-24 17:10:08.079328",
                                    "1054.1847187751896"
                                ],
                                [
                                    "2023-09-25 17:10:08.079328",
                                    "1056.7825498183615"
                                ],
                                [
                                    "2023-09-26 17:10:08.079328",
                                    "1059.3803808615335"
                                ],
                                [
                                    "2023-09-27 17:10:08.079328",
                                    "1061.9782119047054"
                                ],
                                [
                                    "2023-09-28 17:10:08.079328",
                                    "1064.5760429478773"
                                ],
                                [
                                    "2023-09-29 17:10:08.079328",
                                    "1067.1738739910493"
                                ],
                                [
                                    "2023-09-30 17:10:08.079328",
                                    "1069.7717050342212"
                                ],
                                [
                                    "2023-10-01 17:10:08.079328",
                                    "1072.3695360773931"
                                ],
                                [
                                    "2023-10-02 17:10:08.079328",
                                    "1074.967367120565"
                                ],
                                [
                                    "2023-10-03 17:10:08.079328",
                                    "1077.565198163737"
                                ],
                                [
                                    "2023-10-04 17:10:08.079328",
                                    "1080.163029206909"
                                ],
                                [
                                    "2023-10-05 17:10:08.079328",
                                    "1082.760860250081"
                                ],
                                [
                                    "2023-10-06 17:10:08.079328",
                                    "1085.3586912932528"
                                ],
                                [
                                    "2023-10-07 17:10:08.079328",
                                    "1087.9565223364248"
                                ],
                                [
                                    "2023-10-08 17:10:08.079328",
                                    "1090.5543533795967"
                                ],
                                [
                                    "2023-10-09 17:10:08.079328",
                                    "1093.1521844227686"
                                ],
                                [
                                    "2023-10-10 17:10:08.079328",
                                    "1095.7500154659406"
                                ],
                                [
                                    "2023-10-11 17:10:08.079328",
                                    "1098.3478465091125"
                                ],
                                [
                                    "2023-10-12 17:10:08.079328",
                                    "1100.9456775522845"
                                ],
                                [
                                    "2023-10-13 17:10:08.079328",
                                    "1103.5435085954564"
                                ],
                                [
                                    "2023-10-14 17:10:08.079328",
                                    "1106.1413396386283"
                                ],
                                [
                                    "2023-10-15 17:10:08.079328",
                                    "1108.7391706818003"
                                ],
                                [
                                    "2023-10-16 17:10:08.079328",
                                    "1111.3370017249722"
                                ],
                                [
                                    "2023-10-17 17:10:08.079328",
                                    "1113.9348327681441"
                                ],
                                [
                                    "2023-10-18 17:10:08.079328",
                                    "1116.532663811316"
                                ],
                                [
                                    "2023-10-19 17:10:08.079328",
                                    "1119.130494854488"
                                ],
                                [
                                    "2023-10-20 17:10:08.079328",
                                    "1121.72832589766"
                                ],
                                [
                                    "2023-10-21 17:10:08.079328",
                                    "1124.3261569408319"
                                ],
                                [
                                    "2023-10-22 17:10:08.079328",
                                    "1126.9239879840038"
                                ],
                                [
                                    "2023-10-23 17:10:08.079328",
                                    "1129.5218190271758"
                                ]
                            ],
                            "shape": {
                                "columns": 1,
                                "rows": 60
                            }
                        },
                        "text/plain": [
                            "2023-09-04 17:10:08.079328    1002.158148\n",
                            "2023-09-05 17:10:08.079328    1004.831668\n",
                            "2023-09-06 17:10:08.079328    1007.423289\n",
                            "2023-09-07 17:10:08.079328    1010.021630\n",
                            "2023-09-08 17:10:08.079328    1012.619419\n",
                            "2023-09-09 17:10:08.079328    1015.217253\n",
                            "2023-09-10 17:10:08.079328    1017.815084\n",
                            "2023-09-11 17:10:08.079328    1020.412915\n",
                            "2023-09-12 17:10:08.079328    1023.010746\n",
                            "2023-09-13 17:10:08.079328    1025.608577\n",
                            "2023-09-14 17:10:08.079328    1028.206408\n",
                            "2023-09-15 17:10:08.079328    1030.804239\n",
                            "2023-09-16 17:10:08.079328    1033.402070\n",
                            "2023-09-17 17:10:08.079328    1035.999901\n",
                            "2023-09-18 17:10:08.079328    1038.597733\n",
                            "2023-09-19 17:10:08.079328    1041.195564\n",
                            "2023-09-20 17:10:08.079328    1043.793395\n",
                            "2023-09-21 17:10:08.079328    1046.391226\n",
                            "2023-09-22 17:10:08.079328    1048.989057\n",
                            "2023-09-23 17:10:08.079328    1051.586888\n",
                            "2023-09-24 17:10:08.079328    1054.184719\n",
                            "2023-09-25 17:10:08.079328    1056.782550\n",
                            "2023-09-26 17:10:08.079328    1059.380381\n",
                            "2023-09-27 17:10:08.079328    1061.978212\n",
                            "2023-09-28 17:10:08.079328    1064.576043\n",
                            "2023-09-29 17:10:08.079328    1067.173874\n",
                            "2023-09-30 17:10:08.079328    1069.771705\n",
                            "2023-10-01 17:10:08.079328    1072.369536\n",
                            "2023-10-02 17:10:08.079328    1074.967367\n",
                            "2023-10-03 17:10:08.079328    1077.565198\n",
                            "2023-10-04 17:10:08.079328    1080.163029\n",
                            "2023-10-05 17:10:08.079328    1082.760860\n",
                            "2023-10-06 17:10:08.079328    1085.358691\n",
                            "2023-10-07 17:10:08.079328    1087.956522\n",
                            "2023-10-08 17:10:08.079328    1090.554353\n",
                            "2023-10-09 17:10:08.079328    1093.152184\n",
                            "2023-10-10 17:10:08.079328    1095.750015\n",
                            "2023-10-11 17:10:08.079328    1098.347847\n",
                            "2023-10-12 17:10:08.079328    1100.945678\n",
                            "2023-10-13 17:10:08.079328    1103.543509\n",
                            "2023-10-14 17:10:08.079328    1106.141340\n",
                            "2023-10-15 17:10:08.079328    1108.739171\n",
                            "2023-10-16 17:10:08.079328    1111.337002\n",
                            "2023-10-17 17:10:08.079328    1113.934833\n",
                            "2023-10-18 17:10:08.079328    1116.532664\n",
                            "2023-10-19 17:10:08.079328    1119.130495\n",
                            "2023-10-20 17:10:08.079328    1121.728326\n",
                            "2023-10-21 17:10:08.079328    1124.326157\n",
                            "2023-10-22 17:10:08.079328    1126.923988\n",
                            "2023-10-23 17:10:08.079328    1129.521819\n",
                            "2023-10-24 17:10:08.079328    1132.119650\n",
                            "2023-10-25 17:10:08.079328    1134.717481\n",
                            "2023-10-26 17:10:08.079328    1137.315312\n",
                            "2023-10-27 17:10:08.079328    1139.913143\n",
                            "2023-10-28 17:10:08.079328    1142.510974\n",
                            "2023-10-29 17:10:08.079328    1145.108805\n",
                            "2023-10-30 17:10:08.079328    1147.706636\n",
                            "2023-10-31 17:10:08.079328    1150.304467\n",
                            "2023-11-01 17:10:08.079328    1152.902298\n",
                            "2023-11-02 17:10:08.079328    1155.500129\n",
                            "Freq: D, dtype: float64"
                        ]
                    },
                    "execution_count": 13,
                    "metadata": {},
                    "output_type": "execute_result"
                }
            ],
            "source": [
                "forecast"
            ]
        },
        {
            "cell_type": "code",
            "execution_count": 14,
            "metadata": {},
            "outputs": [
                {
                    "data": {
                        "text/plain": [
                            "<Axes: xlabel='date', ylabel='sales'>"
                        ]
                    },
                    "execution_count": 14,
                    "metadata": {},
                    "output_type": "execute_result"
                },
                {
                    "data": {
                        "image/png": "[encoded data removed]",
                        "text/plain": [
                            "<Figure size 640x480 with 1 Axes>"
                        ]
                    },
                    "metadata": {},
                    "output_type": "display_data"
                }
            ],
            "source": [
                "sns.lineplot(df)\n",
                "sns.lineplot(data = forecast, c= 'red')"
            ]
        },
        {
            "cell_type": "markdown",
            "metadata": {},
            "source": [
                "Conclusion: No hay estacionalidad, basandonos en la arima podemos proyectar un crecimiento sostenido de alrededor del 15%.\n",
                "\n",
                "Las ventas no son estables en el tiempo, tienen una tendencia en forma de olas repetidas\n",
                "\n",
                "Al no calcular o tener la estacionalidad no se capta los efectos de campanas, distintos dias de la semana. "
            ]
        }
    ],
    "metadata": {
        "kernelspec": {
            "display_name": "base",
            "language": "python",
            "name": "python3"
        },
        "language_info": {
            "codemirror_mode": {
                "name": "ipython",
                "version": 3
            },
            "file_extension": ".py",
            "mimetype": "text/x-python",
            "name": "python",
            "nbconvert_exporter": "python",
            "pygments_lexer": "ipython3",
            "version": "3.13.5"
        },
        "orig_nbformat": 4
    },
    "nbformat": 4,
    "nbformat_minor": 2
}
